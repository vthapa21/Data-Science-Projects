{
 "cells": [
  {
   "cell_type": "code",
   "execution_count": 180,
   "id": "e8b69958",
   "metadata": {},
   "outputs": [],
   "source": [
    "import numpy as np\n",
    "import pandas as pd\n",
    "import nltk\n",
    "import re\n",
    "from nltk.corpus import stopwords\n",
    "from nltk.stem.porter import PorterStemmer\n",
    "from sklearn.feature_extraction.text import TfidfVectorizer\n",
    "from sklearn.model_selection import train_test_split\n",
    "from sklearn.linear_model import LogisticRegression\n",
    "from sklearn.metrics import accuracy_score\n",
    "from nltk.stem.porter import PorterStemmer\n",
    "from sklearn.metrics import confusion_matrix\n",
    "from sklearn.metrics import classification_report\n",
    "import matplotlib.pyplot as plt\n",
    "from sklearn.naive_bayes import MultinomialNB\n",
    "from sklearn import metrics\n",
    "import numpy as np\n",
    "import itertools\n",
    "from sklearn.linear_model import PassiveAggressiveClassifier"
   ]
  },
  {
   "cell_type": "code",
   "execution_count": 85,
   "id": "9d1ce057",
   "metadata": {},
   "outputs": [
    {
     "data": {
      "text/html": [
       "<div>\n",
       "<style scoped>\n",
       "    .dataframe tbody tr th:only-of-type {\n",
       "        vertical-align: middle;\n",
       "    }\n",
       "\n",
       "    .dataframe tbody tr th {\n",
       "        vertical-align: top;\n",
       "    }\n",
       "\n",
       "    .dataframe thead th {\n",
       "        text-align: right;\n",
       "    }\n",
       "</style>\n",
       "<table border=\"1\" class=\"dataframe\">\n",
       "  <thead>\n",
       "    <tr style=\"text-align: right;\">\n",
       "      <th></th>\n",
       "      <th>id</th>\n",
       "      <th>title</th>\n",
       "      <th>author</th>\n",
       "      <th>text</th>\n",
       "      <th>label</th>\n",
       "    </tr>\n",
       "  </thead>\n",
       "  <tbody>\n",
       "    <tr>\n",
       "      <th>0</th>\n",
       "      <td>0</td>\n",
       "      <td>House Dem Aide: We Didn’t Even See Comey’s Let...</td>\n",
       "      <td>Darrell Lucus</td>\n",
       "      <td>House Dem Aide: We Didn’t Even See Comey’s Let...</td>\n",
       "      <td>1</td>\n",
       "    </tr>\n",
       "    <tr>\n",
       "      <th>1</th>\n",
       "      <td>1</td>\n",
       "      <td>FLYNN: Hillary Clinton, Big Woman on Campus - ...</td>\n",
       "      <td>Daniel J. Flynn</td>\n",
       "      <td>Ever get the feeling your life circles the rou...</td>\n",
       "      <td>0</td>\n",
       "    </tr>\n",
       "    <tr>\n",
       "      <th>2</th>\n",
       "      <td>2</td>\n",
       "      <td>Why the Truth Might Get You Fired</td>\n",
       "      <td>Consortiumnews.com</td>\n",
       "      <td>Why the Truth Might Get You Fired October 29, ...</td>\n",
       "      <td>1</td>\n",
       "    </tr>\n",
       "    <tr>\n",
       "      <th>3</th>\n",
       "      <td>3</td>\n",
       "      <td>15 Civilians Killed In Single US Airstrike Hav...</td>\n",
       "      <td>Jessica Purkiss</td>\n",
       "      <td>Videos 15 Civilians Killed In Single US Airstr...</td>\n",
       "      <td>1</td>\n",
       "    </tr>\n",
       "    <tr>\n",
       "      <th>4</th>\n",
       "      <td>4</td>\n",
       "      <td>Iranian woman jailed for fictional unpublished...</td>\n",
       "      <td>Howard Portnoy</td>\n",
       "      <td>Print \\nAn Iranian woman has been sentenced to...</td>\n",
       "      <td>1</td>\n",
       "    </tr>\n",
       "  </tbody>\n",
       "</table>\n",
       "</div>"
      ],
      "text/plain": [
       "   id                                              title              author  \\\n",
       "0   0  House Dem Aide: We Didn’t Even See Comey’s Let...       Darrell Lucus   \n",
       "1   1  FLYNN: Hillary Clinton, Big Woman on Campus - ...     Daniel J. Flynn   \n",
       "2   2                  Why the Truth Might Get You Fired  Consortiumnews.com   \n",
       "3   3  15 Civilians Killed In Single US Airstrike Hav...     Jessica Purkiss   \n",
       "4   4  Iranian woman jailed for fictional unpublished...      Howard Portnoy   \n",
       "\n",
       "                                                text  label  \n",
       "0  House Dem Aide: We Didn’t Even See Comey’s Let...      1  \n",
       "1  Ever get the feeling your life circles the rou...      0  \n",
       "2  Why the Truth Might Get You Fired October 29, ...      1  \n",
       "3  Videos 15 Civilians Killed In Single US Airstr...      1  \n",
       "4  Print \\nAn Iranian woman has been sentenced to...      1  "
      ]
     },
     "execution_count": 85,
     "metadata": {},
     "output_type": "execute_result"
    }
   ],
   "source": [
    "train_data=pd.read_csv(r'C:\\Users\\Vishal\\Data\\fakenews\\train.csv')\n",
    "train_data.head()"
   ]
  },
  {
   "cell_type": "markdown",
   "id": "67aa3ad3",
   "metadata": {},
   "source": [
    "### Pre processing"
   ]
  },
  {
   "cell_type": "code",
   "execution_count": 86,
   "id": "ea7c2b68",
   "metadata": {},
   "outputs": [
    {
     "data": {
      "text/plain": [
       "(20800, 5)"
      ]
     },
     "execution_count": 86,
     "metadata": {},
     "output_type": "execute_result"
    }
   ],
   "source": [
    "train_data.shape"
   ]
  },
  {
   "cell_type": "code",
   "execution_count": 87,
   "id": "93892b32",
   "metadata": {},
   "outputs": [
    {
     "data": {
      "text/plain": [
       "id           0\n",
       "title      558\n",
       "author    1957\n",
       "text        39\n",
       "label        0\n",
       "dtype: int64"
      ]
     },
     "execution_count": 87,
     "metadata": {},
     "output_type": "execute_result"
    }
   ],
   "source": [
    "#count of missing values\n",
    "train_data.isnull().sum()"
   ]
  },
  {
   "cell_type": "code",
   "execution_count": 88,
   "id": "f229d71d",
   "metadata": {},
   "outputs": [],
   "source": [
    "#replacing NULL with empty string\n",
    "t_d=train_data.fillna('')"
   ]
  },
  {
   "cell_type": "code",
   "execution_count": 89,
   "id": "5e14ce85",
   "metadata": {},
   "outputs": [
    {
     "data": {
      "text/plain": [
       "id        0\n",
       "title     0\n",
       "author    0\n",
       "text      0\n",
       "label     0\n",
       "dtype: int64"
      ]
     },
     "execution_count": 89,
     "metadata": {},
     "output_type": "execute_result"
    }
   ],
   "source": [
    "t_d.isnull().sum()"
   ]
  },
  {
   "cell_type": "code",
   "execution_count": 91,
   "id": "b71b0866",
   "metadata": {},
   "outputs": [],
   "source": [
    "#merge author and title names\n",
    "t_d['total']=t_d['title']+''+t_d['author']"
   ]
  },
  {
   "cell_type": "code",
   "execution_count": 92,
   "id": "15834a6b",
   "metadata": {},
   "outputs": [
    {
     "name": "stdout",
     "output_type": "stream",
     "text": [
      "0        House Dem Aide: We Didn’t Even See Comey’s Let...\n",
      "1        FLYNN: Hillary Clinton, Big Woman on Campus - ...\n",
      "2        Why the Truth Might Get You FiredConsortiumnew...\n",
      "3        15 Civilians Killed In Single US Airstrike Hav...\n",
      "4        Iranian woman jailed for fictional unpublished...\n",
      "                               ...                        \n",
      "20795    Rapper T.I.: Trump a ’Poster Child For White S...\n",
      "20796    N.F.L. Playoffs: Schedule, Matchups and Odds -...\n",
      "20797    Macy’s Is Said to Receive Takeover Approach by...\n",
      "20798    NATO, Russia To Hold Parallel Exercises In Bal...\n",
      "20799               What Keeps the F-35 AliveDavid Swanson\n",
      "Name: total, Length: 20800, dtype: object\n"
     ]
    }
   ],
   "source": [
    "print(t_d['total'])"
   ]
  },
  {
   "cell_type": "code",
   "execution_count": 93,
   "id": "c91423fd",
   "metadata": {},
   "outputs": [],
   "source": [
    "#label is the depedent feature\n",
    "Y=t_d['label']\n",
    "X=t_d.drop(columns='label',axis=1)"
   ]
  },
  {
   "cell_type": "code",
   "execution_count": 94,
   "id": "957aeb01",
   "metadata": {},
   "outputs": [
    {
     "name": "stdout",
     "output_type": "stream",
     "text": [
      "(20800, 5) (20800,)\n"
     ]
    }
   ],
   "source": [
    "print(X.shape,Y.shape)"
   ]
  },
  {
   "cell_type": "markdown",
   "id": "becb5795",
   "metadata": {},
   "source": [
    "### Stemming\n",
    "To reduce words to root form"
   ]
  },
  {
   "cell_type": "code",
   "execution_count": 95,
   "id": "f6a8d2d5",
   "metadata": {},
   "outputs": [],
   "source": [
    "port=PorterStemmer()"
   ]
  },
  {
   "cell_type": "code",
   "execution_count": 101,
   "id": "6b9e6a7f",
   "metadata": {},
   "outputs": [],
   "source": [
    "def stemming(total):\n",
    "  review = re.sub('[^a-zA-Z]',' ',total)\n",
    "  review = review.lower()\n",
    "  review = review.split()\n",
    "  review = [port.stem(word) for word in review if not word in stopwords.words('english')]\n",
    "  review = ' '.join(review)\n",
    "  return review"
   ]
  },
  {
   "cell_type": "code",
   "execution_count": 120,
   "id": "8743c666",
   "metadata": {},
   "outputs": [
    {
     "name": "stdout",
     "output_type": "stream",
     "text": [
      "0        hou dem aid even see comey letter jason chaffe...\n",
      "1        flynn hillari clinton big woman campu breitbar...\n",
      "2                   truth might get firedconsortiumnew com\n",
      "3        civilian kill singl us airstrik identifiedjess...\n",
      "4        iranian woman jail fiction unpublish stori wom...\n",
      "                               ...                        \n",
      "20795    rapper trump poster child white supremaci jero...\n",
      "20796    n f l playoff schedul matchup odd new york tim...\n",
      "20797    maci said receiv takeov approach hudson bay ne...\n",
      "20798    nato russia hold parallel exerci balkansalex a...\n",
      "20799                            keep f alivedavid swanson\n",
      "Name: total, Length: 20800, dtype: object\n"
     ]
    }
   ],
   "source": [
    "t_d['total']=t_d['total'].apply(stemming)\n",
    "print(t_d['total'])"
   ]
  },
  {
   "cell_type": "code",
   "execution_count": 124,
   "id": "f741f8fc",
   "metadata": {},
   "outputs": [
    {
     "name": "stdout",
     "output_type": "stream",
     "text": [
      "(20800,) (20800,)\n"
     ]
    }
   ],
   "source": [
    "X=t_d['total'].values\n",
    "Y=t_d['label'].values\n",
    "print(X.shape,Y.shape)"
   ]
  },
  {
   "cell_type": "code",
   "execution_count": 122,
   "id": "73a8ce36",
   "metadata": {},
   "outputs": [
    {
     "name": "stdout",
     "output_type": "stream",
     "text": [
      "['hou dem aid even see comey letter jason chaffetz tweet itdarrel lucu'\n",
      " 'flynn hillari clinton big woman campu breitbartdaniel j flynn'\n",
      " 'truth might get firedconsortiumnew com' ...\n",
      " 'maci said receiv takeov approach hudson bay new york timesmichael j de la merc rachel abram'\n",
      " 'nato russia hold parallel exerci balkansalex ansari'\n",
      " 'keep f alivedavid swanson']\n"
     ]
    }
   ],
   "source": [
    "print(X)"
   ]
  },
  {
   "cell_type": "code",
   "execution_count": 123,
   "id": "66ecfa8c",
   "metadata": {},
   "outputs": [
    {
     "name": "stdout",
     "output_type": "stream",
     "text": [
      "[1 0 1 ... 0 1 1]\n"
     ]
    }
   ],
   "source": [
    "print(Y)"
   ]
  },
  {
   "cell_type": "markdown",
   "id": "268fe177",
   "metadata": {},
   "source": [
    "### Performing TF-IDF"
   ]
  },
  {
   "cell_type": "code",
   "execution_count": 125,
   "id": "e1f8921b",
   "metadata": {},
   "outputs": [],
   "source": [
    "vector=TfidfVectorizer()\n",
    "vector.fit(X)\n",
    "X=vector.transform(X)\n"
   ]
  },
  {
   "cell_type": "code",
   "execution_count": 126,
   "id": "b4847f51",
   "metadata": {},
   "outputs": [],
   "source": [
    "X_train, X_test, Y_train, Y_test = train_test_split(X, Y, test_size = 0.3, stratify=Y, random_state=4)"
   ]
  },
  {
   "cell_type": "markdown",
   "id": "1d75ed05",
   "metadata": {},
   "source": [
    "### Performing logistic regression"
   ]
  },
  {
   "cell_type": "code",
   "execution_count": 127,
   "id": "45adcdcf",
   "metadata": {},
   "outputs": [
    {
     "data": {
      "text/plain": [
       "LogisticRegression()"
      ]
     },
     "execution_count": 127,
     "metadata": {},
     "output_type": "execute_result"
    }
   ],
   "source": [
    "#fitting the model\n",
    "log_model=LogisticRegression()\n",
    "log_model.fit(X_train,Y_train)"
   ]
  },
  {
   "cell_type": "code",
   "execution_count": 130,
   "id": "9d27d0b3",
   "metadata": {},
   "outputs": [
    {
     "name": "stdout",
     "output_type": "stream",
     "text": [
      "0.9813186813186813\n"
     ]
    }
   ],
   "source": [
    "#accuracy of train data\n",
    "X_trainpred=log_model.predict(X_train)\n",
    "train_accuracy=accuracy_score(X_trainpred, Y_train)\n",
    "print(train_accuracy)"
   ]
  },
  {
   "cell_type": "code",
   "execution_count": 129,
   "id": "4717c764",
   "metadata": {},
   "outputs": [
    {
     "name": "stdout",
     "output_type": "stream",
     "text": [
      "0.9629807692307693\n"
     ]
    }
   ],
   "source": [
    "#accuracy of test data\n",
    "X_testpred=log_model.predict(X_test)\n",
    "test_accuracy=accuracy_score(X_testpred, Y_test)\n",
    "print(test_accuracy)"
   ]
  },
  {
   "cell_type": "markdown",
   "id": "23a29e2a",
   "metadata": {},
   "source": [
    "### Multinomial Naive Bayes implementation"
   ]
  },
  {
   "cell_type": "code",
   "execution_count": 142,
   "id": "f6a71a8e",
   "metadata": {},
   "outputs": [
    {
     "name": "stdout",
     "output_type": "stream",
     "text": [
      "Wall time: 11.8 ms\n"
     ]
    },
    {
     "data": {
      "text/plain": [
       "0.936698717948718"
      ]
     },
     "execution_count": 142,
     "metadata": {},
     "output_type": "execute_result"
    }
   ],
   "source": [
    "nb = MultinomialNB()\n",
    "%time nb.fit(X_train, Y_train)\n",
    "y_pred_class = nb.predict(X_test)\n",
    "metrics.accuracy_score(Y_test, y_pred_class)\n"
   ]
  },
  {
   "cell_type": "code",
   "execution_count": 143,
   "id": "7aa67b88",
   "metadata": {},
   "outputs": [
    {
     "data": {
      "text/plain": [
       "array([[3086,   30],\n",
       "       [ 365, 2759]], dtype=int64)"
      ]
     },
     "execution_count": 143,
     "metadata": {},
     "output_type": "execute_result"
    }
   ],
   "source": [
    "metrics.confusion_matrix(Y_test, y_pred_class)"
   ]
  },
  {
   "cell_type": "code",
   "execution_count": 175,
   "id": "c3f29354",
   "metadata": {},
   "outputs": [],
   "source": [
    "X1_train, X1_test, Y1_train, Y1_test = train_test_split(X, Y, test_size=0.33 ,random_state=45)"
   ]
  },
  {
   "cell_type": "code",
   "execution_count": 176,
   "id": "fb4f0b5a",
   "metadata": {},
   "outputs": [
    {
     "name": "stdout",
     "output_type": "stream",
     "text": [
      "Wall time: 6.29 ms\n"
     ]
    },
    {
     "data": {
      "text/plain": [
       "0.9363344988344988"
      ]
     },
     "execution_count": 176,
     "metadata": {},
     "output_type": "execute_result"
    }
   ],
   "source": [
    "nb = MultinomialNB()\n",
    "%time nb.fit(X1_train, Y1_train)\n",
    "y_pred_class = nb.predict(X1_test)\n",
    "metrics.accuracy_score(Y1_test, y_pred_class)\n"
   ]
  },
  {
   "cell_type": "code",
   "execution_count": 177,
   "id": "f6d7ebf6",
   "metadata": {},
   "outputs": [
    {
     "data": {
      "text/plain": [
       "array([[3412,   43],\n",
       "       [ 394, 3015]], dtype=int64)"
      ]
     },
     "execution_count": 177,
     "metadata": {},
     "output_type": "execute_result"
    }
   ],
   "source": [
    "metrics.confusion_matrix(Y1_test, y_pred_class)"
   ]
  },
  {
   "cell_type": "code",
   "execution_count": 183,
   "id": "9be99e0b",
   "metadata": {},
   "outputs": [
    {
     "name": "stdout",
     "output_type": "stream",
     "text": [
      "accuracy: 0.9363344988344988\n",
      "Confusion matrix, without normalization\n"
     ]
    },
    {
     "data": {
      "image/png": "[encoded data removed]",
      "text/plain": [
       "<Figure size 432x288 with 2 Axes>"
      ]
     },
     "metadata": {
      "needs_background": "light"
     },
     "output_type": "display_data"
    }
   ],
   "source": [
    "def plot_confusion_matrix(cm, classes,\n",
    "                          normalize=False,\n",
    "                          title='Confusion matrix',\n",
    "                          cmap=plt.cm.Blues):\n",
    "    plt.imshow(cm, interpolation='bicubic', cmap=cmap)\n",
    "    plt.title(title)\n",
    "    plt.colorbar()\n",
    "    tick_marks = np.arange(len(classes))\n",
    "    plt.xticks(tick_marks, classes, )\n",
    "    plt.yticks(tick_marks, classes)\n",
    "\n",
    "    if normalize:\n",
    "        cm = cm.astype('float') / cm.sum(axis=1)[:, np.newaxis]\n",
    "        print(\"Normalized confusion matrix\")\n",
    "    else:\n",
    "        print('Confusion matrix, without normalization')\n",
    "\n",
    "    thresh = cm.max() / 2.\n",
    "    for i, j in itertools.product(range(cm.shape[0]), range(cm.shape[1])):\n",
    "        plt.text(j, i, cm[i, j],\n",
    "                 horizontalalignment=\"center\",\n",
    "                 color=\"white\" if cm[i, j] > thresh else \"black\")\n",
    "\n",
    "    plt.tight_layout()\n",
    "    plt.ylabel('True label')\n",
    "    plt.xlabel('Predicted label')\n",
    "nb.fit(X1_train, Y1_train)\n",
    "prediction1 = nb.predict(X1_test)\n",
    "score = metrics.accuracy_score(Y1_test, prediction1)\n",
    "print(\"accuracy:\",score)\n",
    "cm1 = metrics.confusion_matrix(Y1_test, prediction1)\n",
    "plot_confusion_matrix(cm1, classes=['Fake', 'Real'])\n"
   ]
  },
  {
   "cell_type": "markdown",
   "id": "23d49b67",
   "metadata": {},
   "source": [
    "### Passive aggressive classifier"
   ]
  },
  {
   "cell_type": "code",
   "execution_count": 179,
   "id": "e2480137",
   "metadata": {},
   "outputs": [],
   "source": [
    "X2_train, X2_test, Y2_train, Y2_test = train_test_split(X, Y, test_size=0.40 ,random_state=45)"
   ]
  },
  {
   "cell_type": "code",
   "execution_count": 186,
   "id": "691bc8e8",
   "metadata": {},
   "outputs": [
    {
     "name": "stdout",
     "output_type": "stream",
     "text": [
      "accuracy: 0.9849759615384616\n",
      "Confusion matrix, without normalization\n"
     ]
    },
    {
     "data": {
      "image/png": "[encoded data removed]",
      "text/plain": [
       "<Figure size 432x288 with 2 Axes>"
      ]
     },
     "metadata": {
      "needs_background": "light"
     },
     "output_type": "display_data"
    }
   ],
   "source": [
    "linear=PassiveAggressiveClassifier()\n",
    "linear.fit(X2_train, Y2_train)\n",
    "prediction2 = linear.predict(X2_test)\n",
    "score = metrics.accuracy_score(Y2_test, prediction2)\n",
    "print(\"accuracy:\",score)\n",
    "cm2 = metrics.confusion_matrix(Y2_test, prediction2)\n",
    "plot_confusion_matrix(cm2, classes=['Fake', 'Real'])"
   ]
  },
  {
   "cell_type": "markdown",
   "id": "7ef58863",
   "metadata": {},
   "source": [
    "### Building a predictive model"
   ]
  },
  {
   "cell_type": "code",
   "execution_count": 198,
   "id": "91abdde2",
   "metadata": {},
   "outputs": [
    {
     "name": "stdout",
     "output_type": "stream",
     "text": [
      "[0]\n",
      "0\n",
      "The news is Real\n"
     ]
    }
   ],
   "source": [
    "#Using Logistic regression model\n",
    "X_ =X_test[0]\n",
    "X_pred = log_model.predict(X_)\n",
    "print(X_pred)\n",
    "print(Y_test[0])\n",
    "\n",
    "if (X_pred[0]==0):\n",
    "  print('The news is Real')\n",
    "else:\n",
    "  print('The news is Fake')\n",
    "\n"
   ]
  },
  {
   "cell_type": "code",
   "execution_count": 201,
   "id": "fb9492be",
   "metadata": {},
   "outputs": [
    {
     "name": "stdout",
     "output_type": "stream",
     "text": [
      "[1]\n",
      "1\n",
      "The news is Fake\n"
     ]
    }
   ],
   "source": [
    "#Using Multinomial Naive Bayes\n",
    "X__=X1_test[12]\n",
    "X__pred = log_model.predict(X__)\n",
    "print(X__pred)\n",
    "print(Y1_test[12])\n",
    "if (X__pred[0]==0):\n",
    "  print('The news is Real')\n",
    "else:\n",
    "  print('The news is Fake')"
   ]
  },
  {
   "cell_type": "code",
   "execution_count": 202,
   "id": "ee2edd1e",
   "metadata": {},
   "outputs": [
    {
     "name": "stdout",
     "output_type": "stream",
     "text": [
      "[1]\n",
      "1\n",
      "The news is Fake\n"
     ]
    }
   ],
   "source": [
    "#Using Passive Aggressive Classifier\n",
    "X___=X2_test[130]\n",
    "X___pred = log_model.predict(X___)\n",
    "print(X___pred)\n",
    "print(Y2_test[130])\n",
    "if (X___pred[0]==0):\n",
    "  print('The news is Real')\n",
    "else:\n",
    "  print('The news is Fake')"
   ]
  },
  {
   "cell_type": "markdown",
   "id": "709aff79",
   "metadata": {},
   "source": [
    "### Classfication report"
   ]
  },
  {
   "cell_type": "code",
   "execution_count": 205,
   "id": "75b3028e",
   "metadata": {},
   "outputs": [
    {
     "name": "stdout",
     "output_type": "stream",
     "text": [
      "              precision    recall  f1-score   support\n",
      "\n",
      "           0       0.98      0.94      0.96      3116\n",
      "           1       0.95      0.98      0.96      3124\n",
      "\n",
      "    accuracy                           0.96      6240\n",
      "   macro avg       0.96      0.96      0.96      6240\n",
      "weighted avg       0.96      0.96      0.96      6240\n",
      "\n"
     ]
    }
   ],
   "source": [
    "\n",
    "print(classification_report(Y_test, X_testpred))"
   ]
  },
  {
   "cell_type": "code",
   "execution_count": 206,
   "id": "cb002eae",
   "metadata": {},
   "outputs": [
    {
     "name": "stdout",
     "output_type": "stream",
     "text": [
      "              precision    recall  f1-score   support\n",
      "\n",
      "           0       0.90      0.99      0.94      3455\n",
      "           1       0.99      0.88      0.93      3409\n",
      "\n",
      "    accuracy                           0.94      6864\n",
      "   macro avg       0.94      0.94      0.94      6864\n",
      "weighted avg       0.94      0.94      0.94      6864\n",
      "\n"
     ]
    }
   ],
   "source": [
    "print(classification_report(Y1_test, prediction1))"
   ]
  },
  {
   "cell_type": "code",
   "execution_count": 207,
   "id": "e404c5ae",
   "metadata": {},
   "outputs": [
    {
     "name": "stdout",
     "output_type": "stream",
     "text": [
      "              precision    recall  f1-score   support\n",
      "\n",
      "           0       0.99      0.98      0.98      4159\n",
      "           1       0.98      0.99      0.99      4161\n",
      "\n",
      "    accuracy                           0.98      8320\n",
      "   macro avg       0.99      0.98      0.98      8320\n",
      "weighted avg       0.99      0.98      0.98      8320\n",
      "\n"
     ]
    }
   ],
   "source": [
    "print(classification_report(Y2_test, prediction2))"
   ]
  },
  {
   "cell_type": "markdown",
   "id": "98442870",
   "metadata": {},
   "source": [
    "##### Logistic Regression : Accuracy is 0.98\n",
    "\n"
   ]
  },
  {
   "cell_type": "markdown",
   "id": "9cc784c9",
   "metadata": {},
   "source": [
    "##### Multinomial Naive Bayes : Accuracy is 0.93\n",
    "\n"
   ]
  },
  {
   "cell_type": "markdown",
   "id": "68e19708",
   "metadata": {},
   "source": [
    "##### Passive Aggressive Classifier : Accuracy is 0.98"
   ]
  },
  {
   "cell_type": "code",
   "execution_count": null,
   "id": "a5693e2d",
   "metadata": {},
   "outputs": [],
   "source": []
  }
 ],
 "metadata": {
  "kernelspec": {
   "display_name": "Python 3",
   "language": "python",
   "name": "python3"
  },
  "language_info": {
   "codemirror_mode": {
    "name": "ipython",
    "version": 3
   },
   "file_extension": ".py",
   "mimetype": "text/x-python",
   "name": "python",
   "nbconvert_exporter": "python",
   "pygments_lexer": "ipython3",
   "version": "3.8.8"
  }
 },
 "nbformat": 4,
 "nbformat_minor": 5
}
